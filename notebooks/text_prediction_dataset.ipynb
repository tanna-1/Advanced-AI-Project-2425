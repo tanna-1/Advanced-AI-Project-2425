{
 "cells": [
  {
   "cell_type": "markdown",
   "id": "44a43efe",
   "metadata": {},
   "source": [
    "# Text Prediction Dataset\n",
    "\n",
    "This notebook provides an interactive interface for working with the downloading the text prediction dataset."
   ]
  },
  {
   "cell_type": "markdown",
   "id": "9941425e",
   "metadata": {},
   "source": [
    "## 1. Import Required Libraries"
   ]
  },
  {
   "cell_type": "code",
   "execution_count": null,
   "id": "f8dc38ce",
   "metadata": {},
   "outputs": [],
   "source": [
    "%pip install kagglehub[pandas-datasets]\n",
    "import kagglehub\n",
    "import os\n",
    "import zipfile"
   ]
  },
  {
   "cell_type": "markdown",
   "id": "30ff6926",
   "metadata": {},
   "source": [
    "## 2. Download the dataset\n",
    "\n",
    "Downloads the simplified English Wikipedia pages in plain text."
   ]
  },
  {
   "cell_type": "code",
   "execution_count": null,
   "id": "aefa5458",
   "metadata": {},
   "outputs": [],
   "source": [
    "path = kagglehub.dataset_download(\n",
    "    \"ffatty/plain-text-wikipedia-simpleenglish\", \"AllCombined.txt\"\n",
    ")\n",
    "try: os.remove(\"../data/text.txt\")\n",
    "except: pass\n",
    "try: os.remove(\"../data/AllCombined.txt\")\n",
    "except: pass\n",
    "with zipfile.ZipFile(path, \"r\") as zip_ref:\n",
    "    zip_ref.extract(\"AllCombined.txt\", \"../data\")\n",
    "os.rename(\"../data/AllCombined.txt\", \"../data/text.txt\")"
   ]
  }
 ],
 "metadata": {
  "kernelspec": {
   "display_name": ".venv",
   "language": "python",
   "name": "python3"
  },
  "language_info": {
   "codemirror_mode": {
    "name": "ipython",
    "version": 3
   },
   "file_extension": ".py",
   "mimetype": "text/x-python",
   "name": "python",
   "nbconvert_exporter": "python",
   "pygments_lexer": "ipython3",
   "version": "3.12.9"
  }
 },
 "nbformat": 4,
 "nbformat_minor": 5
}
