{
 "cells": [
  {
   "cell_type": "markdown",
   "id": "a605939d",
   "metadata": {},
   "source": [
    "# HyperNet: A Neural Network That Generates Neural Networks\n",
    "\n",
    "This notebook provides an interactive interface for working with the HyperNet model, which is a neural network that generates weights for another neural network. The HyperNet model is designed to create convolutional neural networks for image classification on the CIFAR-10 dataset."
   ]
  },
  {
   "cell_type": "markdown",
   "id": "781e26fe",
   "metadata": {},
   "source": [
    "## 1. Import Required Libraries"
   ]
  },
  {
   "cell_type": "code",
   "execution_count": null,
   "id": "82469720",
   "metadata": {},
   "outputs": [],
   "source": [
    "import os\n",
    "from pathlib import Path\n",
    "import torch\n",
    "from torchinfo import summary\n",
    "\n",
    "from advanced_ai_project.utils import get_cifar10_dataset\n",
    "from advanced_ai_project.model import MLPCheckpoint\n",
    "from advanced_ai_project.hyperparameters import load_hyperparameters, optimize_hyperparameters\n",
    "from advanced_ai_project.hypernet.train import train as train_hypernet\n",
    "from advanced_ai_project.hypernet.evaluate import evaluate as evaluate_hypernet"
   ]
  },
  {
   "cell_type": "markdown",
   "id": "eda1716c",
   "metadata": {},
   "source": [
    "## 2. Configuration\n",
    "\n",
    "Set up the necessary parameters for the HyperNet model."
   ]
  },
  {
   "cell_type": "code",
   "execution_count": null,
   "id": "f9a53ce1",
   "metadata": {},
   "outputs": [],
   "source": [
    "# Configuration parameters\n",
    "dataset_path = \"../data/cifar10\"  # Path to the CIFAR-10 dataset\n",
    "checkpoint_path = \"../data/hypernet_checkpoint.pt\"  # Path to save or load the model checkpoint\n",
    "study_path = \"../data/hypernet_study.db\"  # Path to the database for storing/loading hyperparameters\n",
    "\n",
    "# Training parameters\n",
    "training_batch_size = 256\n",
    "training_num_epochs = 1000\n",
    "\n",
    "# Optimization parameters\n",
    "opt_trials = 1000\n",
    "opt_batch_size = 256\n",
    "opt_num_epochs = 2\n",
    "\n",
    "# Create directories if they don't exist\n",
    "os.makedirs(os.path.dirname(checkpoint_path), exist_ok=True)\n",
    "os.makedirs(os.path.dirname(study_path), exist_ok=True)\n",
    "os.makedirs(os.path.dirname(dataset_path), exist_ok=True)\n",
    "ckpt = None"
   ]
  },
  {
   "cell_type": "markdown",
   "id": "2d9ff6bf",
   "metadata": {},
   "source": [
    "## 3. Optimize Hyperparameters\n",
    "\n",
    "This cell optimizes the hyperparameters for the HyperNet model using Optuna."
   ]
  },
  {
   "cell_type": "code",
   "execution_count": null,
   "id": "36b42871",
   "metadata": {},
   "outputs": [],
   "source": [
    "if Path(checkpoint_path).exists():\n",
    "    print(f\"Checkpoint file exists at {checkpoint_path}. Hyperparameters will not be optimized.\")\n",
    "else:\n",
    "    optimize_hyperparameters(\n",
    "        study_path,\n",
    "        get_cifar10_dataset(dataset_path, train=True),\n",
    "        n_trials=opt_trials,\n",
    "        num_epochs=opt_num_epochs,\n",
    "        batch_size=opt_batch_size,\n",
    "        train_function=train_hypernet,\n",
    "    )\n",
    "    print(f\"Hyperparameter optimization completed. Results stored in {study_path}\")"
   ]
  },
  {
   "cell_type": "markdown",
   "id": "f94b06ce",
   "metadata": {},
   "source": [
    "## 4. Train HyperNet Model\n",
    "\n",
    "This cell trains the HyperNet model using the optimized hyperparameters."
   ]
  },
  {
   "cell_type": "code",
   "execution_count": null,
   "id": "0ab2663e",
   "metadata": {},
   "outputs": [],
   "source": [
    "# Load or create checkpoint\n",
    "try:\n",
    "    ckpt = MLPCheckpoint.load(checkpoint_path)\n",
    "    print(\"Loaded existing checkpoint.\")\n",
    "except:\n",
    "    try:\n",
    "        ckpt = MLPCheckpoint.new_from_hyperparams(load_hyperparameters(study_path))\n",
    "        print(\"Created new checkpoint from hyperparameters.\")\n",
    "    except:\n",
    "        print(f\"Neither checkpoint or the hyperparameter DB exists. Please run hyperparameter optimization first.\")\n",
    "        raise\n",
    "\n",
    "# Train the model\n",
    "print(\"Training hypernet model...\")\n",
    "ckpt.model.train()\n",
    "avg_loss = train_hypernet(\n",
    "    ckpt,\n",
    "    dataset=get_cifar10_dataset(dataset_path, train=True),\n",
    "    num_epochs=training_num_epochs,\n",
    "    batch_size=training_batch_size,\n",
    ")\n",
    "print(f\"Training complete with an average loss of {avg_loss}\")\n",
    "\n",
    "# Save the model\n",
    "ckpt.save(checkpoint_path)\n",
    "print(f\"Model saved to {checkpoint_path}\")"
   ]
  },
  {
   "cell_type": "markdown",
   "id": "6dc4a24f",
   "metadata": {},
   "source": [
    "## 5. Evaluate HyperNet Model\n",
    "\n",
    "This cell evaluates the performance of the trained HyperNet model on the CIFAR-10 test dataset."
   ]
  },
  {
   "cell_type": "code",
   "execution_count": null,
   "id": "ca9d318f",
   "metadata": {},
   "outputs": [],
   "source": [
    "if ckpt is None:\n",
    "    ckpt = MLPCheckpoint.load(checkpoint_path)\n",
    "\n",
    "accuracy = evaluate_hypernet(\n",
    "    ckpt,\n",
    "    dataset=get_cifar10_dataset(dataset_path, train=False),\n",
    ")\n",
    "print(f\"Test accuracy of the generated CNN: {accuracy:.2f}%\")"
   ]
  },
  {
   "cell_type": "markdown",
   "id": "91a046e4",
   "metadata": {},
   "source": [
    "## 6. Model Summary\n",
    "\n",
    "Display a summary of the HyperNet model architecture."
   ]
  },
  {
   "cell_type": "code",
   "execution_count": null,
   "id": "7c9f9e44",
   "metadata": {},
   "outputs": [],
   "source": [
    "if ckpt is None:\n",
    "    ckpt = MLPCheckpoint.load(checkpoint_path)\n",
    "\n",
    "print(summary(\n",
    "    ckpt.model,\n",
    "    input_data=torch.zeros(\n",
    "        (1, 64), dtype=torch.int64, device=ckpt.model.device\n",
    "    ),\n",
    "))"
   ]
  }
 ],
 "metadata": {
  "kernelspec": {
   "display_name": ".venv",
   "language": "python",
   "name": "python3"
  },
  "language_info": {
   "codemirror_mode": {
    "name": "ipython",
    "version": 3
   },
   "file_extension": ".py",
   "mimetype": "text/x-python",
   "name": "python",
   "nbconvert_exporter": "python",
   "pygments_lexer": "ipython3",
   "version": "3.13.2"
  }
 },
 "nbformat": 4,
 "nbformat_minor": 5
}
